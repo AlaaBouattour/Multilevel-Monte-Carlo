{
 "cells": [
  {
   "cell_type": "markdown",
   "metadata": {},
   "source": [
    "## Why the Digital Option Example Exposes MLMC’s Blind-Sampling Failure\n",
    "\n",
    "1. **Payoff Discontinuity → Poor Coupling**  \n",
    "   A digital payoff  \n",
    "   $$P(S_T) = \\mathbf{1}_{\\{S_T > K\\}}$$  \n",
    "   jumps from 0 to 1 at $S_T = K$. MLMC relies on strong coupling between “fine” and “coarse” paths so that  \n",
    "   $$Y_\\ell = P_\\ell - P_{\\ell-1}$$  \n",
    "   has low variance. For a discontinuous payoff, almost every coupled pair gives exactly the same 0 or 1, until a rare “boundary” path crosses the threshold—so $Y_\\ell$ is almost always zero.\n",
    "\n",
    "2. **Flat & Clamped Pilot Variance Estimates**  \n",
    "   In its pilot phase, MLMC simulates $N_0=1024$ paths at each level and computes  \n",
    "   $$V_\\ell \\approx \\mathrm{Var}[Y_\\ell].$$  \n",
    "   Because $Y_\\ell$ is almost always 0. The result is a flat, uninformative profile of $V_0 \\approx V_1 \\approx V_2$.\n",
    "\n",
    "3. **Blind Allocation Sees No Signal**  \n",
    "   The allocation formula  \n",
    "   $$N_\\ell \\propto \\sqrt{\\frac{V_\\ell}{C_\\ell}}$$  \n",
    "   therefore sees no meaningful variance differences across levels—so it assigns **the same** $N_\\ell$ everywhere, despite the fact that $C_\\ell$ grows like $2^\\ell$.\n",
    "\n",
    "4. **Wasted Computation on Coarse Levels**  \n",
    "   Coarse levels ($\\ell$ small) are cheap per sample but contribute virtually **no information** (because $Y_\\ell \\approx 0$ almost always). MLMC still “blindly” invests thousands of paths there, purely based on its generic variance–cost estimate.\n",
    "\n",
    "5. **Implications for AI-Enhanced MLMC**  \n",
    "   This failure mode highlights exactly **where** AI/ML can help:  \n",
    "   - **Detect** the rare “boundary” paths that actually produce nonzero $Y_\\ell$.  \n",
    "   - **Cluster** or score those paths, then **reallocate** sampling effort away from the sea of zero-difference paths toward the impactful ones.  \n"
   ]
  },
  {
   "cell_type": "code",
   "execution_count": 31,
   "metadata": {},
   "outputs": [],
   "source": [
    "# Imports & Parameters\n",
    "import sys, os, time, math\n",
    "import numpy as np\n",
    "import matplotlib.pyplot as plt\n",
    "import pandas as pd\n",
    "\n",
    "# allow import of your local mlmc package\n",
    "sys.path.append(os.path.abspath('..'))\n",
    "from mlmc import MLMC, WeakConvergenceError\n",
    "from mlmc.bs_model import make_bs_level_fn\n",
    "\n",
    "# Black–Scholes / MLMC parameters\n",
    "S0, K = 100.0, 100.0\n",
    "r, σ  = 0.05, 0.20\n",
    "T     = 1.0\n",
    "disc  = math.exp(-r * T)\n",
    "\n",
    "# Target tolerances for demonstration\n",
    "EPS = [0.1, 0.05, 0.025, 0.0125]\n"
   ]
  },
  {
   "cell_type": "code",
   "execution_count": 32,
   "metadata": {},
   "outputs": [],
   "source": [
    "# Digital payoff & MLMC setup\n",
    "def digital_payoff(S, K):\n",
    "    return (S > K).astype(float)\n",
    "\n",
    "payoff_fn = lambda S: digital_payoff(S, K)\n",
    "mlmc = MLMC(make_bs_level_fn(S0, r, σ, T, payoff_fn))\n"
   ]
  },
  {
   "cell_type": "code",
   "execution_count": 33,
   "metadata": {},
   "outputs": [],
   "source": [
    "# Run MLMC only and collect per-level allocations\n",
    "records = []\n",
    "\n",
    "for eps in EPS:\n",
    "    rec = {\"epsilon\": eps}\n",
    "    try:\n",
    "        t0 = time.perf_counter()\n",
    "        price, Nl, Cl, total_cost = mlmc.estimate(eps)\n",
    "        rec.update({\n",
    "            \"price\": price,\n",
    "            \"time_s\": time.perf_counter() - t0,\n",
    "            \"total_cost\": total_cost,\n",
    "            \"N_per_level\": Nl.copy()\n",
    "        })\n",
    "    except WeakConvergenceError as err:\n",
    "        rec.update({\n",
    "            \"price\": np.nan,\n",
    "            \"time_s\": np.nan,\n",
    "            \"total_cost\": np.nan,\n",
    "            \"N_per_level\": None,\n",
    "            \"error\": str(err)\n",
    "        })\n",
    "    records.append(rec)\n"
   ]
  },
  {
   "cell_type": "markdown",
   "metadata": {},
   "source": [
    "Remark:\n",
    "This example made us discover this issue\n",
    "___\n",
    "RuntimeWarning: divide by zero encountered in log2\n",
    "  alpha = max(0.5, -np.linalg.lstsq(A, np.log2(ml[1:]), rcond=None)[0][0])\n",
    "___\n",
    "This is because V_l is almost always equal to zero, check the changes in mlmc.core.py. We solved b y adding a safety procedure."
   ]
  },
  {
   "cell_type": "code",
   "execution_count": 34,
   "metadata": {},
   "outputs": [
    {
     "data": {
      "text/html": [
       "<div>\n",
       "<style scoped>\n",
       "    .dataframe tbody tr th:only-of-type {\n",
       "        vertical-align: middle;\n",
       "    }\n",
       "\n",
       "    .dataframe tbody tr th {\n",
       "        vertical-align: top;\n",
       "    }\n",
       "\n",
       "    .dataframe thead th {\n",
       "        text-align: right;\n",
       "    }\n",
       "</style>\n",
       "<table border=\"1\" class=\"dataframe\">\n",
       "  <thead>\n",
       "    <tr style=\"text-align: right;\">\n",
       "      <th></th>\n",
       "      <th>epsilon</th>\n",
       "      <th>price</th>\n",
       "      <th>time_s</th>\n",
       "      <th>total_cost</th>\n",
       "      <th>N_l_0</th>\n",
       "      <th>N_l_1</th>\n",
       "      <th>N_l_2</th>\n",
       "    </tr>\n",
       "  </thead>\n",
       "  <tbody>\n",
       "    <tr>\n",
       "      <th>0</th>\n",
       "      <td>0.1000</td>\n",
       "      <td>0.545285</td>\n",
       "      <td>0.001669</td>\n",
       "      <td>7168.0</td>\n",
       "      <td>1024</td>\n",
       "      <td>1024</td>\n",
       "      <td>1024</td>\n",
       "    </tr>\n",
       "    <tr>\n",
       "      <th>1</th>\n",
       "      <td>0.0500</td>\n",
       "      <td>0.528564</td>\n",
       "      <td>0.001210</td>\n",
       "      <td>7168.0</td>\n",
       "      <td>1024</td>\n",
       "      <td>1024</td>\n",
       "      <td>1024</td>\n",
       "    </tr>\n",
       "    <tr>\n",
       "      <th>2</th>\n",
       "      <td>0.0250</td>\n",
       "      <td>0.520204</td>\n",
       "      <td>0.001144</td>\n",
       "      <td>7168.0</td>\n",
       "      <td>1024</td>\n",
       "      <td>1024</td>\n",
       "      <td>1024</td>\n",
       "    </tr>\n",
       "    <tr>\n",
       "      <th>3</th>\n",
       "      <td>0.0125</td>\n",
       "      <td>0.530013</td>\n",
       "      <td>0.001852</td>\n",
       "      <td>8050.0</td>\n",
       "      <td>1906</td>\n",
       "      <td>1024</td>\n",
       "      <td>1024</td>\n",
       "    </tr>\n",
       "  </tbody>\n",
       "</table>\n",
       "</div>"
      ],
      "text/plain": [
       "   epsilon     price    time_s  total_cost  N_l_0  N_l_1  N_l_2\n",
       "0   0.1000  0.545285  0.001669      7168.0   1024   1024   1024\n",
       "1   0.0500  0.528564  0.001210      7168.0   1024   1024   1024\n",
       "2   0.0250  0.520204  0.001144      7168.0   1024   1024   1024\n",
       "3   0.0125  0.530013  0.001852      8050.0   1906   1024   1024"
      ]
     },
     "metadata": {},
     "output_type": "display_data"
    }
   ],
   "source": [
    "# results\n",
    "df = pd.DataFrame(records)\n",
    "# expand N_per_level into separate columns\n",
    "Nl_df = pd.DataFrame(df[\"N_per_level\"].tolist(), index=df.index).add_prefix(\"N_l_\")\n",
    "out = pd.concat([df.drop(columns=\"N_per_level\"), Nl_df], axis=1)\n",
    "display(out)\n"
   ]
  },
  {
   "cell_type": "code",
   "execution_count": 38,
   "metadata": {},
   "outputs": [
    {
     "data": {
      "image/png": "[encoded data removed]",
      "text/plain": [
       "<Figure size 600x400 with 1 Axes>"
      ]
     },
     "metadata": {},
     "output_type": "display_data"
    }
   ],
   "source": [
    "levels = np.arange(max(len(rec[\"N_per_level\"]) for rec in records))\n",
    "bar_width = 0.8 / len(records)\n",
    "fig, ax = plt.subplots(figsize=(6, 4))\n",
    "for i, rec in enumerate(records):\n",
    "    Nl = rec[\"N_per_level\"]\n",
    "    ax.bar(levels + i*bar_width, Nl, width=bar_width, label=f\"ε={rec['epsilon']}\")\n",
    "ax.set_xticks(levels + bar_width*(len(records)-1)/2)\n",
    "ax.set_xticklabels(levels)\n",
    "ax.set_xlabel(\"Level ℓ\")\n",
    "ax.set_ylabel(\"Paths per level Nℓ\")\n",
    "ax.set_title(\"Nℓ Allocation per ε (Grouped Bars)\")\n",
    "ax.legend()\n",
    "ax.grid(True, which=\"both\", ls=\"--\")\n",
    "plt.tight_layout()\n",
    "plt.show()\n"
   ]
  },
  {
   "cell_type": "code",
   "execution_count": 36,
   "metadata": {},
   "outputs": [
    {
     "name": "stdout",
     "output_type": "stream",
     "text": [
      "Level 0: mean(Y_0) = 5.324e-01, var(Y_0) = 2.230e-01\n",
      "Level 1: mean(Y_1) = 0.000e+00, var(Y_1) = 0.000e+00\n",
      "Level 2: mean(Y_2) = 0.000e+00, var(Y_2) = 0.000e+00\n"
     ]
    }
   ],
   "source": [
    "# Inspect Yₗ for levels 0 and 1 to compare payoff variance vs. increment variance\n",
    "N_test = 100_000\n",
    "\n",
    "for l_test in [0, 1, 2]:\n",
    "    # simulate N_test coupled samples at level l_test\n",
    "    sums, cost = mlmc._f(l_test, N_test)\n",
    "    sumY, sumY2 = sums\n",
    "\n",
    "    # empirical mean and variance of Yₗ\n",
    "    meanY = sumY  / N_test\n",
    "    varY  = sumY2 / N_test - meanY**2\n",
    "\n",
    "    print(f\"Level {l_test}: mean(Y_{l_test}) = {meanY:.3e}, var(Y_{l_test}) = {varY:.3e}\")\n"
   ]
  }
 ],
 "metadata": {
  "kernelspec": {
   "display_name": "Python 3",
   "language": "python",
   "name": "python3"
  },
  "language_info": {
   "codemirror_mode": {
    "name": "ipython",
    "version": 3
   },
   "file_extension": ".py",
   "mimetype": "text/x-python",
   "name": "python",
   "nbconvert_exporter": "python",
   "pygments_lexer": "ipython3",
   "version": "3.12.6"
  }
 },
 "nbformat": 4,
 "nbformat_minor": 2
}
